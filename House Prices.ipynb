{
 "cells": [
  {
   "cell_type": "code",
   "execution_count": 92,
   "id": "1017bbf4",
   "metadata": {},
   "outputs": [],
   "source": [
    "import numpy as np\n",
    "import pandas as pd\n",
    "from sklearn.model_selection import train_test_split\n",
    "from sklearn.impute import SimpleImputer\n",
    "from sklearn.preprocessing import OrdinalEncoder\n",
    "from category_encoders import MEstimateEncoder\n",
    "\n",
    "train_df = pd.read_csv(\"train.csv\")\n",
    "test_df = pd.read_csv(\"test.csv\")\n",
    "\n",
    "X = train_df.drop(columns=['SalePrice', 'Id'])\n",
    "y = train_df['SalePrice']\n",
    "\n",
    "X_train, X_test, y_train, y_test = train_test_split(X, y, test_size=0.3, random_state=1)"
   ]
  },
  {
   "cell_type": "markdown",
   "id": "c9bc2cda",
   "metadata": {},
   "source": [
    "First, load the data and split the training data into a train and test (validation) set."
   ]
  },
  {
   "cell_type": "code",
   "execution_count": 93,
   "id": "8b0d4b52",
   "metadata": {},
   "outputs": [],
   "source": [
    "num_cols = [col for col in X.columns if X[col].dtypes != 'object']\n",
    "str_cols = [col for col in X.columns if X[col].dtypes == 'object']\n",
    "\n",
    "num_na_cols = [num_cols[ind] for ind,na_count in enumerate(X[num_cols].isnull().sum()) if na_count > 0 ]\n",
    "str_na_cols = [str_cols[ind] for ind,na_count in enumerate(X[str_cols].isnull().sum()) if na_count > 0 ]"
   ]
  },
  {
   "cell_type": "markdown",
   "id": "41d6f5e1",
   "metadata": {},
   "source": [
    "Find which variables in the training data have missing values, and record if the data is numeric or non-numeric."
   ]
  },
  {
   "cell_type": "code",
   "execution_count": 94,
   "id": "517502b4",
   "metadata": {},
   "outputs": [],
   "source": [
    "num_na_fill = SimpleImputer(strategy='mean')\n",
    "\n",
    "X_na_fill_train = num_na_fill.fit_transform(X_train[num_na_cols])\n",
    "X_na_fill_test = num_na_fill.transform(X_test[num_na_cols])\n",
    "\n",
    "X_fill_train = X_train.copy()\n",
    "X_fill_test = X_test.copy()\n",
    "\n",
    "X_fill_train.loc[:,num_na_cols] = X_na_fill_train\n",
    "X_fill_test.loc[:,num_na_cols] = X_na_fill_test"
   ]
  },
  {
   "cell_type": "markdown",
   "id": "d285191a",
   "metadata": {},
   "source": [
    "For the numeric variables, replace missing values with a mean over observed values."
   ]
  },
  {
   "cell_type": "code",
   "execution_count": 95,
   "id": "49dc959b",
   "metadata": {},
   "outputs": [],
   "source": [
    "str_na_cols\n",
    "str_na_fill = ['NA','None','NA','NA','NA','NA','NA','Mix','NA','NA','NA','NA','NA','NA','NA','NA']\n",
    "\n",
    "str_na_dict = {}\n",
    "\n",
    "for col,na_fill in zip(str_na_cols,str_na_fill):\n",
    "    str_na_dict[col] = na_fill\n",
    "\n",
    "X_fill_train.fillna(value=str_na_dict, inplace=True)\n",
    "X_fill_test.fillna(value=str_na_dict, inplace=True)"
   ]
  },
  {
   "cell_type": "markdown",
   "id": "2c53ed97",
   "metadata": {},
   "source": [
    "For the non-numeric variables, replace missing values with an appropriate default value using the description.txt file."
   ]
  },
  {
   "cell_type": "code",
   "execution_count": 96,
   "id": "0c0ae654",
   "metadata": {},
   "outputs": [],
   "source": [
    "ord_encoded_col = []\n",
    "\n",
    "ord_encoder = OrdinalEncoder(categories=[['Po', 'Fa', 'TA', 'Gd', 'Ex']])\n",
    "ord_encoder_col = ['ExterQual','ExterCond','HeatingQC','KitchenQual']\n",
    "ord_encoded_col.append(ord_encoder_col)\n",
    "\n",
    "for col in ord_encoder_col:\n",
    "    X_fill_train[col] = ord_encoder.fit_transform(X_fill_train[[col]])\n",
    "    X_fill_test[col] = ord_encoder.transform(X_fill_test[[col]])\n",
    "\n",
    "ord_na_encoder = OrdinalEncoder(categories=[['NA','Po', 'Fa', 'TA', 'Gd', 'Ex']])\n",
    "ord_na_encoder_col = ['BsmtQual','BsmtCond','FireplaceQu','GarageQual','GarageCond','PoolQC']\n",
    "ord_encoded_col.append(ord_na_encoder_col)\n",
    "\n",
    "for col in ord_na_encoder_col:\n",
    "    X_fill_train[col] = ord_na_encoder.fit_transform(X_fill_train[[col]])\n",
    "    X_fill_test[col] = ord_na_encoder.transform(X_fill_test[[col]])\n",
    "\n",
    "bst_encoder = OrdinalEncoder(categories=[['NA','No','Mn','Av','Gd']])\n",
    "bst_encoder_col = ['BsmtExposure']\n",
    "ord_encoded_col.append(bst_encoder_col)\n",
    "\n",
    "for col in bst_encoder_col:\n",
    "    X_fill_train[col] = bst_encoder.fit_transform(X_fill_train[[col]])\n",
    "    X_fill_test[col] = bst_encoder.transform(X_fill_test[[col]])\n",
    "\n",
    "bst_fintype_encoder = OrdinalEncoder(categories=[['NA','Unf','LwQ','Rec','BLQ','ALQ','GLQ']])\n",
    "bst_fintype_encoder_col = ['BsmtFinType1','BsmtFinType2']\n",
    "ord_encoded_col.append(bst_fintype_encoder_col)\n",
    "\n",
    "for col in bst_fintype_encoder_col:\n",
    "    X_fill_train[col] = bst_fintype_encoder.fit_transform(X_fill_train[[col]])\n",
    "    X_fill_test[col] = bst_fintype_encoder.transform(X_fill_test[[col]])\n",
    "\n",
    "funct_encoder = OrdinalEncoder(categories=[['Sal','Sev','Maj2','Maj1','Mod','Min2','Min1','Typ']])\n",
    "funct_encoder_col = ['Functional']\n",
    "ord_encoded_col.append(funct_encoder_col)\n",
    "\n",
    "for col in funct_encoder_col:\n",
    "    X_fill_train[col] = funct_encoder.fit_transform(X_fill_train[[col]])\n",
    "    X_fill_test[col] = funct_encoder.transform(X_fill_test[[col]])\n",
    "\n",
    "fence_encoder = OrdinalEncoder(categories=[['NA','MnWw','GdWo','MnPrv','GdPrv']])\n",
    "fence_encoder_col = ['Fence']\n",
    "ord_encoded_col.append(fence_encoder_col)\n",
    "\n",
    "for col in fence_encoder_col:\n",
    "    X_fill_train[col] = fence_encoder.fit_transform(X_fill_train[[col]])\n",
    "    X_fill_test[col] = fence_encoder.transform(X_fill_test[[col]])\n",
    "\n",
    "ord_encoded_col = sum(ord_encoded_col, [])"
   ]
  },
  {
   "cell_type": "markdown",
   "id": "dc704186",
   "metadata": {},
   "source": [
    "For categorical variables with some natural order, transform as ordinal."
   ]
  },
  {
   "cell_type": "code",
   "execution_count": 97,
   "id": "63409749",
   "metadata": {},
   "outputs": [],
   "source": [
    "target_encode_cols = [col for col in str_cols if col not in ord_encoded_col]\n",
    "target_encoder = MEstimateEncoder(cols = X_train[target_encode_cols])\n",
    "\n",
    "target_encode_cols\n",
    "\n",
    "X_train_final = target_encoder.fit_transform(X_fill_train, y_train)\n",
    "\n",
    "X_test_final = target_encoder.transform(X_fill_test)"
   ]
  },
  {
   "cell_type": "markdown",
   "id": "5be3bcdd",
   "metadata": {},
   "source": [
    "For the rest of the categorical variables, use target encoding."
   ]
  },
  {
   "cell_type": "code",
   "execution_count": 112,
   "id": "ef278767",
   "metadata": {},
   "outputs": [
    {
     "name": "stdout",
     "output_type": "stream",
     "text": [
      "{'learning_rate': 0.04, 'max_depth': 7, 'n_estimators': 500, 'subsample': 0.5}\n"
     ]
    }
   ],
   "source": [
    "import xgboost as xgb\n",
    "from sklearn.model_selection import GridSearchCV\n",
    "\n",
    "parameters = {'n_estimators':[100, 250, 500], 'learning_rate':[0.04, 0.05], 'max_depth':[7,8], 'subsample':[0.25, 0.5]}\n",
    "xgb_test = xgb.XGBRegressor()\n",
    "param_search = GridSearchCV(xgb_test, parameters)\n",
    "param_search.fit(X_train_final, y_train)\n",
    "print(param_search.best_params_)"
   ]
  },
  {
   "cell_type": "markdown",
   "id": "774fac13",
   "metadata": {},
   "source": [
    "Run best parameter search to find the optimal setting for XGBoost. If we decided to filter through different features to feed into the model, we would have needed to create a subset of the training data just for finding the best parameters for XGBoost, but in this instance, because we are simply opting to use all of the covariates, this additional partition is not needed."
   ]
  },
  {
   "cell_type": "code",
   "execution_count": 115,
   "id": "197038ff",
   "metadata": {},
   "outputs": [
    {
     "data": {
      "text/plain": [
       "14866.092305222603"
      ]
     },
     "execution_count": 115,
     "metadata": {},
     "output_type": "execute_result"
    }
   ],
   "source": [
    "xgbr = xgb.XGBRegressor(learning_rate=0.04,max_depth=7,n_estimators=500,subsample=0.5)\n",
    "\n",
    "xgbr.fit(X_train_final, y_train)\n",
    "train_pred = xgbr.predict(X_test_final)\n",
    "\n",
    "np.mean(abs(train_pred - y_test))"
   ]
  },
  {
   "cell_type": "markdown",
   "id": "470255e8",
   "metadata": {},
   "source": [
    "Perform a sanity check to see if the model fitted is producing reasonable results. The average absolute error is around $15,000 for the test (validation) data set."
   ]
  },
  {
   "cell_type": "code",
   "execution_count": 129,
   "id": "180aa730",
   "metadata": {},
   "outputs": [],
   "source": [
    "train_df = pd.read_csv(\"train.csv\")\n",
    "test_df = pd.read_csv(\"test.csv\")\n",
    "\n",
    "X_train = train_df.drop(columns=['SalePrice', 'Id'])\n",
    "y_train = train_df['SalePrice']\n",
    "X_test = test_df.drop(columns=['Id'])\n",
    "\n",
    "num_cols = [col for col in X_train.columns if X_train[col].dtypes != 'object']\n",
    "str_cols = [col for col in X_train.columns if X_train[col].dtypes == 'object']\n",
    "\n",
    "num_na_cols = [num_cols[ind] for ind,na_count in enumerate(X_train[num_cols].isnull().sum()) if na_count > 0 ]\n",
    "str_na_cols = [str_cols[ind] for ind,na_count in enumerate(X_train[str_cols].isnull().sum()) if na_count > 0 ]\n",
    "\n",
    "num_na_fill = SimpleImputer(strategy='mean')\n",
    "\n",
    "X_na_fill_train = num_na_fill.fit_transform(X_train[num_na_cols])\n",
    "X_na_fill_test = num_na_fill.transform(X_test[num_na_cols])\n",
    "\n",
    "X_fill_train = X_train.copy()\n",
    "X_fill_test = X_test.copy()\n",
    "\n",
    "X_fill_train.loc[:,num_na_cols] = X_na_fill_train\n",
    "X_fill_test.loc[:,num_na_cols] = X_na_fill_test\n",
    "\n",
    "str_na_cols\n",
    "str_na_fill = ['NA','None','NA','NA','NA','NA','NA','Mix','NA','NA','NA','NA','NA','NA','NA','NA']\n",
    "\n",
    "str_na_dict = {}\n",
    "\n",
    "for col,na_fill in zip(str_na_cols,str_na_fill):\n",
    "    str_na_dict[col] = na_fill\n",
    "\n",
    "X_fill_train.fillna(value=str_na_dict, inplace=True)\n",
    "X_fill_test.fillna(value=str_na_dict, inplace=True)"
   ]
  },
  {
   "cell_type": "markdown",
   "id": "3dda14eb",
   "metadata": {},
   "source": [
    "Now that the parameters have been chosen, use those same parameters to train the model on the entirety of the training data.\n",
    "\n",
    "However, we notice that applying the same pre-processing steps to the test data still yields some missing variables that we did not previously encounter. Also, the pre-processing step could be written as a function so that we are not repeating code so often."
   ]
  },
  {
   "cell_type": "code",
   "execution_count": 130,
   "id": "28ffe5e1",
   "metadata": {},
   "outputs": [
    {
     "data": {
      "text/plain": [
       "True"
      ]
     },
     "execution_count": 130,
     "metadata": {},
     "output_type": "execute_result"
    }
   ],
   "source": [
    "X_fill_test.isnull().values.any()"
   ]
  },
  {
   "cell_type": "code",
   "execution_count": 131,
   "id": "b832c3d5",
   "metadata": {},
   "outputs": [],
   "source": [
    "num_cols = [col for col in X_fill_test.columns if X_fill_test[col].dtypes != 'object']\n",
    "str_cols = [col for col in X_fill_test.columns if X_fill_test[col].dtypes == 'object']\n",
    "\n",
    "num_na_cols = [num_cols[ind] for ind,na_count in enumerate(X_fill_test[num_cols].isnull().sum()) if na_count > 0 ]\n",
    "str_na_cols = [str_cols[ind] for ind,na_count in enumerate(X_fill_test[str_cols].isnull().sum()) if na_count > 0 ]\n",
    "\n",
    "num_fill = SimpleImputer(strategy='mean')\n",
    "X_na_num_fill_test = num_fill.fit_transform(X_fill_test[num_na_cols])\n",
    "X_fill_test[num_na_cols] = X_na_num_fill_test\n",
    "\n",
    "str_fill = SimpleImputer(strategy='most_frequent')\n",
    "X_na_str_fill_test = str_fill.fit_transform(X_fill_test[str_na_cols])\n",
    "X_fill_test[str_na_cols] = X_na_str_fill_test"
   ]
  },
  {
   "cell_type": "markdown",
   "id": "bf5cba9c",
   "metadata": {},
   "source": [
    "Fill the missing values with a mean of the variable if it is numeric and the most frequent value if the variable is non-numeric.\n",
    "\n",
    "Now the test data set no longer has any missing values."
   ]
  },
  {
   "cell_type": "code",
   "execution_count": 133,
   "id": "29da85c1",
   "metadata": {},
   "outputs": [
    {
     "data": {
      "text/plain": [
       "False"
      ]
     },
     "execution_count": 133,
     "metadata": {},
     "output_type": "execute_result"
    }
   ],
   "source": [
    "X_fill_test.isnull().values.any()"
   ]
  },
  {
   "cell_type": "code",
   "execution_count": 134,
   "id": "da6409f8",
   "metadata": {},
   "outputs": [],
   "source": [
    "ord_encoded_col = []\n",
    "\n",
    "ord_encoder = OrdinalEncoder(categories=[['Po', 'Fa', 'TA', 'Gd', 'Ex']])\n",
    "ord_encoder_col = ['ExterQual','ExterCond','HeatingQC','KitchenQual']\n",
    "ord_encoded_col.append(ord_encoder_col)\n",
    "\n",
    "for col in ord_encoder_col:\n",
    "    X_fill_train[col] = ord_encoder.fit_transform(X_fill_train[[col]])\n",
    "    X_fill_test[col] = ord_encoder.transform(X_fill_test[[col]])\n",
    "\n",
    "ord_na_encoder = OrdinalEncoder(categories=[['NA','Po', 'Fa', 'TA', 'Gd', 'Ex']])\n",
    "ord_na_encoder_col = ['BsmtQual','BsmtCond','FireplaceQu','GarageQual','GarageCond','PoolQC']\n",
    "ord_encoded_col.append(ord_na_encoder_col)\n",
    "\n",
    "for col in ord_na_encoder_col:\n",
    "    X_fill_train[col] = ord_na_encoder.fit_transform(X_fill_train[[col]])\n",
    "    X_fill_test[col] = ord_na_encoder.transform(X_fill_test[[col]])\n",
    "\n",
    "bst_encoder = OrdinalEncoder(categories=[['NA','No','Mn','Av','Gd']])\n",
    "bst_encoder_col = ['BsmtExposure']\n",
    "ord_encoded_col.append(bst_encoder_col)\n",
    "\n",
    "for col in bst_encoder_col:\n",
    "    X_fill_train[col] = bst_encoder.fit_transform(X_fill_train[[col]])\n",
    "    X_fill_test[col] = bst_encoder.transform(X_fill_test[[col]])\n",
    "\n",
    "bst_fintype_encoder = OrdinalEncoder(categories=[['NA','Unf','LwQ','Rec','BLQ','ALQ','GLQ']])\n",
    "bst_fintype_encoder_col = ['BsmtFinType1','BsmtFinType2']\n",
    "ord_encoded_col.append(bst_fintype_encoder_col)\n",
    "\n",
    "for col in bst_fintype_encoder_col:\n",
    "    X_fill_train[col] = bst_fintype_encoder.fit_transform(X_fill_train[[col]])\n",
    "    X_fill_test[col] = bst_fintype_encoder.transform(X_fill_test[[col]])\n",
    "\n",
    "funct_encoder = OrdinalEncoder(categories=[['Sal','Sev','Maj2','Maj1','Mod','Min2','Min1','Typ']])\n",
    "funct_encoder_col = ['Functional']\n",
    "ord_encoded_col.append(funct_encoder_col)\n",
    "\n",
    "for col in funct_encoder_col:\n",
    "    X_fill_train[col] = funct_encoder.fit_transform(X_fill_train[[col]])\n",
    "    X_fill_test[col] = funct_encoder.transform(X_fill_test[[col]])\n",
    "\n",
    "fence_encoder = OrdinalEncoder(categories=[['NA','MnWw','GdWo','MnPrv','GdPrv']])\n",
    "fence_encoder_col = ['Fence']\n",
    "ord_encoded_col.append(fence_encoder_col)\n",
    "\n",
    "for col in fence_encoder_col:\n",
    "    X_fill_train[col] = fence_encoder.fit_transform(X_fill_train[[col]])\n",
    "    X_fill_test[col] = fence_encoder.transform(X_fill_test[[col]])\n",
    "\n",
    "ord_encoded_col = sum(ord_encoded_col, [])"
   ]
  },
  {
   "cell_type": "code",
   "execution_count": 135,
   "id": "fbed1800",
   "metadata": {},
   "outputs": [],
   "source": [
    "target_encode_cols = [col for col in str_cols if col not in ord_encoded_col]\n",
    "target_encoder = MEstimateEncoder(cols = X_train[target_encode_cols])\n",
    "\n",
    "target_encode_cols\n",
    "\n",
    "X_train_final = target_encoder.fit_transform(X_fill_train, y_train)\n",
    "\n",
    "X_test_final = target_encoder.transform(X_fill_test)"
   ]
  },
  {
   "cell_type": "code",
   "execution_count": 144,
   "id": "b7184010",
   "metadata": {},
   "outputs": [],
   "source": [
    "xgbr_final = xgb.XGBRegressor(learning_rate=0.04,max_depth=7,n_estimators=500,subsample=0.5)\n",
    "\n",
    "xgbr_final.fit(X_train_final, y_train)\n",
    "final_pred = xgbr_final.predict(X_test_final)"
   ]
  },
  {
   "cell_type": "code",
   "execution_count": 145,
   "id": "a82f4067",
   "metadata": {},
   "outputs": [],
   "source": [
    "final_pred_df = pd.DataFrame({'Id': test_df.Id, 'SalePrice': final_pred})\n",
    "final_pred_df.to_csv('submission.csv', index=False)"
   ]
  }
 ],
 "metadata": {
  "kernelspec": {
   "display_name": "Python 3",
   "language": "python",
   "name": "python3"
  },
  "language_info": {
   "codemirror_mode": {
    "name": "ipython",
    "version": 3
   },
   "file_extension": ".py",
   "mimetype": "text/x-python",
   "name": "python",
   "nbconvert_exporter": "python",
   "pygments_lexer": "ipython3",
   "version": "3.8.5"
  }
 },
 "nbformat": 4,
 "nbformat_minor": 5
}
